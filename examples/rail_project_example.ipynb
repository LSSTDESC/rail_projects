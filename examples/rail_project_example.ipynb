{
 "cells": [
  {
   "cell_type": "markdown",
   "id": "d436cc4a-49c9-4f27-93cf-9a196d251a77",
   "metadata": {},
   "source": [
    "### Setup and teardown scripts to setup a test area"
   ]
  },
  {
   "cell_type": "code",
   "execution_count": null,
   "id": "96bee599-4711-4a07-b182-1cbe257ea4d8",
   "metadata": {},
   "outputs": [],
   "source": [
    "import os\n",
    "\n",
    "check_dir = os.path.basename(os.path.abspath(os.curdir))\n",
    "if check_dir == 'examples':\n",
    "    os.chdir('..')\n",
    "\n",
    "def setup_project_area() -> None:\n",
    "    if not os.path.exists(\"tests/temp_data\"):\n",
    "        os.system(\"wget http://s3df.slac.stanford.edu/people/echarles/xfer/ci_test.tgz -o /dev/null\")\n",
    "        os.system(\n",
    "            \"tar zxvf ci_test.tgz -C tests\"\n",
    "        )\n",
    "\n",
    "    if not os.path.exists(\"tests/temp_data/data/test\"):\n",
    "        os.makedirs(\"tests/temp_data/data/test\")\n",
    "        os.system(\n",
    "            \"wget http://s3df.slac.stanford.edu/people/echarles/xfer/roman_rubin_2023_maglim_25.5_baseline_100k.hdf5 -o /dev/null\"\n",
    "        )\n",
    "        os.system(\n",
    "            \"mv roman_rubin_2023_maglim_25.5_baseline_100k.hdf5 tests/temp_data/data/test/ci_test_blend_baseline_100k.hdf5\"\n",
    "        )\n",
    "\n",
    "def teardown_project_area() -> None:\n",
    "    if not os.environ.get(\"NO_TEARDOWN\"):\n",
    "        os.system(\"\\\\rm -rf tests/temp_data\")\n",
    "        os.system(\"\\\\rm -f ci_test.tgz\")\n",
    "\n",
    "setup_project_area()"
   ]
  },
  {
   "cell_type": "code",
   "execution_count": null,
   "id": "7136e23a-43f1-4a36-ba77-03b9a649c449",
   "metadata": {},
   "outputs": [],
   "source": [
    "from rail.projects import RailProject\n",
    "\n",
    "project = RailProject.load_config(\"tests/ci_project.yaml\")"
   ]
  },
  {
   "cell_type": "code",
   "execution_count": null,
   "id": "f47f06c0-2718-4cdd-aaa9-156341336907",
   "metadata": {},
   "outputs": [],
   "source": [
    "catalog_files_truth = project.get_catalog_files(\"truth\")\n",
    "print(catalog_files_truth)"
   ]
  },
  {
   "cell_type": "code",
   "execution_count": null,
   "id": "1e4a8135-8131-473b-a132-b9be2109dbe0",
   "metadata": {},
   "outputs": [],
   "source": [
    "project.reduce_data(\n",
    "    catalog_template=\"truth\",\n",
    "    output_catalog_template=\"reduced\",\n",
    "    reducer_class_name=\"roman_rubin\",\n",
    "    input_selection=\"\",\n",
    "    selection=\"gold\",\n",
    ")\n"
   ]
  },
  {
   "cell_type": "code",
   "execution_count": null,
   "id": "e6b79133-b695-433c-a47f-91bfa9fffc97",
   "metadata": {},
   "outputs": [],
   "source": [
    "project.subsample_data(\n",
    "    catalog_template=\"reduced\",\n",
    "    file_template=\"train_file_10\",\n",
    "    subsampler_class_name=\"random_subsampler\",\n",
    "    subsample_name=\"train_10\",\n",
    "    flavor=\"baseline\",\n",
    "    selection=\"gold\",\n",
    ")"
   ]
  },
  {
   "cell_type": "code",
   "execution_count": null,
   "id": "90ca72b7-bd09-4774-996b-8f4e6ca2bc6f",
   "metadata": {},
   "outputs": [],
   "source": [
    "project.build_pipelines(flavor=\"baseline\")"
   ]
  },
  {
   "cell_type": "code",
   "execution_count": null,
   "id": "2dd52439-1f2e-4ca6-91c6-ed2b9ffb859d",
   "metadata": {},
   "outputs": [],
   "source": [
    "single_ceci_command = project.make_pipeline_single_input_command(\n",
    "    pipeline_name=\"pz\",\n",
    "    flavor=\"basline\",\n",
    "    selection=\"gold\",\n",
    ")\n",
    "print(single_ceci_command)"
   ]
  },
  {
   "cell_type": "code",
   "execution_count": null,
   "id": "c6461441-b51e-42f0-bb86-9a5d3b0513c3",
   "metadata": {},
   "outputs": [],
   "source": [
    "ceci_catalog_commands = project.make_pipeline_catalog_commands(\n",
    "    pipeline_name=\"spec_selection\",\n",
    "    flavor=\"basline\",\n",
    "    selection=\"gold\",\n",
    "    spec_selections = list(project.get_spec_selections().keys()),\n",
    ")\n",
    "print(ceci_catalog_commands)\n"
   ]
  },
  {
   "cell_type": "code",
   "execution_count": null,
   "id": "2e8f3aee-ae84-4a99-9835-797350b94cbf",
   "metadata": {},
   "outputs": [],
   "source": []
  },
  {
   "cell_type": "code",
   "execution_count": null,
   "id": "f5a25d10-9884-4d35-bdb8-cc6e6537e4ab",
   "metadata": {},
   "outputs": [],
   "source": []
  },
  {
   "cell_type": "code",
   "execution_count": null,
   "id": "9b8c80a7-81c7-4dd3-8848-0e746ae52545",
   "metadata": {},
   "outputs": [],
   "source": []
  }
 ],
 "metadata": {
  "kernelspec": {
   "display_name": "Python 3 (ipykernel)",
   "language": "python",
   "name": "python3"
  },
  "language_info": {
   "codemirror_mode": {
    "name": "ipython",
    "version": 3
   },
   "file_extension": ".py",
   "mimetype": "text/x-python",
   "name": "python",
   "nbconvert_exporter": "python",
   "pygments_lexer": "ipython3",
   "version": "3.11.4"
  }
 },
 "nbformat": 4,
 "nbformat_minor": 5
}
